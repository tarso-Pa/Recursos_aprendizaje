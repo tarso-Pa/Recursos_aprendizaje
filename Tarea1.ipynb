{
  "nbformat": 4,
  "nbformat_minor": 0,
  "metadata": {
    "colab": {
      "name": "Tarea1.ipynb",
      "provenance": [],
      "collapsed_sections": [],
      "authorship_tag": "ABX9TyOxC11PpCy9Ve+qONzYpHhw",
      "include_colab_link": true
    },
    "kernelspec": {
      "name": "python3",
      "display_name": "Python 3"
    },
    "language_info": {
      "name": "python"
    }
  },
  "cells": [
    {
      "cell_type": "markdown",
      "metadata": {
        "id": "view-in-github",
        "colab_type": "text"
      },
      "source": [
        "<a href=\"https://colab.research.google.com/github/tarso-Pa/Recursos_aprendizaje/blob/main/Tarea1.ipynb\" target=\"_parent\"><img src=\"https://colab.research.google.com/assets/colab-badge.svg\" alt=\"Open In Colab\"/></a>"
      ]
    },
    {
      "cell_type": "markdown",
      "metadata": {
        "id": "axefu_3WGJd5"
      },
      "source": [
        "#Tarea 1 - Números en Python\n",
        "##Curso de Python\n",
        "Por Tadeo R. Servin O.\n",
        "\n",
        "\n",
        "### Ejercicio 1\n",
        "Calcula la división entera de 45 entre 6"
      ]
    },
    {
      "cell_type": "code",
      "metadata": {
        "colab": {
          "base_uri": "https://localhost:8080/"
        },
        "id": "1mX1xYEnGmyI",
        "outputId": "78783ed7-13ca-4bf3-ebc8-f5d32f1ba333"
      },
      "source": [
        "45/6"
      ],
      "execution_count": 1,
      "outputs": [
        {
          "output_type": "execute_result",
          "data": {
            "text/plain": [
              "7.5"
            ]
          },
          "metadata": {
            "tags": []
          },
          "execution_count": 1
        }
      ]
    },
    {
      "cell_type": "markdown",
      "metadata": {
        "id": "5G_2ho0BF-F-"
      },
      "source": [
        "### Ejercicio 2\n",
        "\n",
        "Calcula el resto de la división entera de 45 entre 6"
      ]
    },
    {
      "cell_type": "code",
      "metadata": {
        "colab": {
          "base_uri": "https://localhost:8080/"
        },
        "id": "nh4r2yUCHHHf",
        "outputId": "7e1cc40e-de79-430a-bc95-a4dabd88f108"
      },
      "source": [
        "45%6"
      ],
      "execution_count": 2,
      "outputs": [
        {
          "output_type": "execute_result",
          "data": {
            "text/plain": [
              "3"
            ]
          },
          "metadata": {
            "tags": []
          },
          "execution_count": 2
        }
      ]
    },
    {
      "cell_type": "markdown",
      "metadata": {
        "id": "pfyJhQrSHSPv"
      },
      "source": [
        "###Ejercicio 3\n",
        "\n",
        "Realiza la siguiente operación en Python, donde ÷ indica la división entera:\n",
        "$$10 + 20 ÷ 7 − 2$$"
      ]
    },
    {
      "cell_type": "code",
      "metadata": {
        "colab": {
          "base_uri": "https://localhost:8080/"
        },
        "id": "5mbl2Ng7IOhW",
        "outputId": "a6a58ef7-d42d-46b8-9e7c-ec8ddaaa9f23"
      },
      "source": [
        "10+20/7-2"
      ],
      "execution_count": 3,
      "outputs": [
        {
          "output_type": "execute_result",
          "data": {
            "text/plain": [
              "10.857142857142858"
            ]
          },
          "metadata": {
            "tags": []
          },
          "execution_count": 3
        }
      ]
    },
    {
      "cell_type": "markdown",
      "metadata": {
        "id": "sr7KsUO9IfNu"
      },
      "source": [
        "### Ejercicio 4\n",
        "Realiza la siguiente operación en Python\n",
        "$$((9 − (25+5−2)/(7∗4))/(2^3))$$"
      ]
    },
    {
      "cell_type": "code",
      "metadata": {
        "colab": {
          "base_uri": "https://localhost:8080/"
        },
        "id": "ygfq5lCRJhwF",
        "outputId": "2b41748a-e523-4eb1-ae97-dfa488c0a3ef"
      },
      "source": [
        "((9-(25+5-2)/(7*4))/(2**3))"
      ],
      "execution_count": 7,
      "outputs": [
        {
          "output_type": "execute_result",
          "data": {
            "text/plain": [
              "1.0"
            ]
          },
          "metadata": {
            "tags": []
          },
          "execution_count": 7
        }
      ]
    },
    {
      "cell_type": "markdown",
      "metadata": {
        "id": "6xaRfLbtKTT1"
      },
      "source": [
        "###Ejercicio 5\n",
        "\n",
        "Realiza la siguiente operación en Python:\n",
        "\n",
        "$$(2+2**3-2*(2-2**5)+2**2*2+2)/(2*(2*2-2**4)+2**2)$$"
      ]
    },
    {
      "cell_type": "code",
      "metadata": {
        "colab": {
          "base_uri": "https://localhost:8080/"
        },
        "id": "smY8oHuvNucQ",
        "outputId": "3c802a4c-364a-407f-84d2-3afe4dd5d39b"
      },
      "source": [
        "(2+2**3-2*(2-2**5)+2**2*2+2)/(2*(2*2-2**4)+2**2)"
      ],
      "execution_count": 8,
      "outputs": [
        {
          "output_type": "execute_result",
          "data": {
            "text/plain": [
              "-4.0"
            ]
          },
          "metadata": {
            "tags": []
          },
          "execution_count": 8
        }
      ]
    },
    {
      "cell_type": "markdown",
      "metadata": {
        "id": "cFmmGilFN1Dm"
      },
      "source": [
        "###Ejercicio 6\n",
        "\n",
        "Realiza la siguiente operación en Python:\n",
        "\n",
        "$$6i − (4 + i) ∗ 2$$"
      ]
    },
    {
      "cell_type": "code",
      "metadata": {
        "colab": {
          "base_uri": "https://localhost:8080/"
        },
        "id": "5eEYIgfON_ok",
        "outputId": "288d6fcc-55bd-46da-e59b-0f0992c19969"
      },
      "source": [
        "6j-(4+1j)*2"
      ],
      "execution_count": 11,
      "outputs": [
        {
          "output_type": "execute_result",
          "data": {
            "text/plain": [
              "(-8+4j)"
            ]
          },
          "metadata": {
            "tags": []
          },
          "execution_count": 11
        }
      ]
    },
    {
      "cell_type": "markdown",
      "metadata": {
        "id": "uv-kxnixTM-w"
      },
      "source": [
        "###Ejercicio 7\n",
        "\n",
        "Realiza la siguiente operación en Python:\n",
        "\n",
        "$$(1+1j)/(1-1j)+2/(-1+1j)$$"
      ]
    },
    {
      "cell_type": "code",
      "metadata": {
        "colab": {
          "base_uri": "https://localhost:8080/"
        },
        "id": "_tp1GLz2U-Qd",
        "outputId": "aed93221-1016-4daf-dd79-c511d5a228cc"
      },
      "source": [
        "x = (( 1 + 1j ) / (1 - 1j )) + (2 / ( -1 + 1j ))\n",
        "# comprobando\n",
        "p=(1+1j)*(-1+1j)\n",
        "q=2*(1-1j)\n",
        "r= (1-1j)*(-1+1j)\n",
        "s=(p+q)/r\n",
        "print(\"Resultado: \", x, \", numerador 1:\", p, \", numerador 2:\", q, \", denominador: \", r, \", comprobación: \", s)"
      ],
      "execution_count": 29,
      "outputs": [
        {
          "output_type": "stream",
          "text": [
            "Resultado:  (-1+0j) , numerador 1: (-2+0j) , numerador 2: (2-2j) , denominador:  2j , comprobación:  (-1-0j)\n"
          ],
          "name": "stdout"
        }
      ]
    },
    {
      "cell_type": "markdown",
      "metadata": {
        "id": "udy3Dfoug0Ka"
      },
      "source": [
        "###Ejercicio 8\n",
        "\n",
        "Realiza la siguiente operación en Python: $$(1 + i)^2$$"
      ]
    },
    {
      "cell_type": "code",
      "metadata": {
        "colab": {
          "base_uri": "https://localhost:8080/"
        },
        "id": "vSJBJZTShEmv",
        "outputId": "059f7032-150c-43f8-c613-8feb77b102d2"
      },
      "source": [
        "(1+1j)**2"
      ],
      "execution_count": 22,
      "outputs": [
        {
          "output_type": "execute_result",
          "data": {
            "text/plain": [
              "2j"
            ]
          },
          "metadata": {
            "tags": []
          },
          "execution_count": 22
        }
      ]
    },
    {
      "cell_type": "markdown",
      "metadata": {
        "id": "AzyK75L5hf-W"
      },
      "source": [
        "###Ejercicio 9\n",
        "Realiza la siguiente operación en Python, donde Mod(z) indica módulo del complejo z:\n",
        "\u0012\n",
        "$$Mod  (9 − 3i/ −2 − i)$$"
      ]
    },
    {
      "cell_type": "code",
      "metadata": {
        "colab": {
          "base_uri": "https://localhost:8080/"
        },
        "id": "xkCjaDUHigh9",
        "outputId": "c0e36ca9-516e-4fc4-d79b-67e68914bbbd"
      },
      "source": [
        "z= abs ((9-3j)/(-2-1j))\n",
        "y=abs(z)\n",
        "#comprobación\n",
        "yr=abs(-3+3j)\n",
        "print(y, yr)"
      ],
      "execution_count": 25,
      "outputs": [
        {
          "output_type": "stream",
          "text": [
            "4.242640687119285 4.242640687119285\n"
          ],
          "name": "stdout"
        }
      ]
    },
    {
      "cell_type": "markdown",
      "metadata": {
        "id": "bXOypr1Mr2pu"
      },
      "source": [
        "### Ejercicio 10\n",
        "¿Cuál es el argumento del número complejo `i`?:"
      ]
    },
    {
      "cell_type": "code",
      "metadata": {
        "colab": {
          "base_uri": "https://localhost:8080/"
        },
        "id": "RV1dWCVmsCeJ",
        "outputId": "d4ba9dc0-9f76-4a86-892a-b68eba6365a9"
      },
      "source": [
        "import cmath\n",
        "cmath.phase(1j)\n"
      ],
      "execution_count": 26,
      "outputs": [
        {
          "output_type": "execute_result",
          "data": {
            "text/plain": [
              "1.5707963267948966"
            ]
          },
          "metadata": {
            "tags": []
          },
          "execution_count": 26
        }
      ]
    }
  ]
}